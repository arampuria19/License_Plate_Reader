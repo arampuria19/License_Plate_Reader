{
 "cells": [
  {
   "cell_type": "code",
   "execution_count": 1,
   "id": "0b36548f",
   "metadata": {},
   "outputs": [],
   "source": [
    "# import the necessary packages\n",
    "from anpr import PyImageSearchANPR\n",
    "from imutils import paths\n",
    "from time import time\n",
    "import imutils\n",
    "import cv2\n",
    "\n",
    "def cleanup_text(text):\n",
    "    # strip out non-ASCII text so we can draw the text on the image using OpenCV\n",
    "    return \"\".join([c if ord(c) < 128 else \"\" for c in text]).strip()"
   ]
  },
  {
   "cell_type": "code",
   "execution_count": null,
   "id": "10600642",
   "metadata": {
    "scrolled": true
   },
   "outputs": [],
   "source": [
    "# initialize our ANPR class\n",
    "anpr = PyImageSearchANPR(debug=True)\n",
    "\n",
    "imagePath = r\"C:\\Users\\HP\\task1\\car1.jpg\"\n",
    "# load the input image from disk and resize it\n",
    "image = cv2.imread(imagePath)\n",
    "image = imutils.resize(image, width=600)\n",
    "# apply automatic license plate recognition\n",
    "(lpText, lpCnt) = anpr.find_and_ocr(image, psm=7, clearBorder=True)\n",
    "# only continue if the license plate was successfully OCR'd\n",
    "begin = time()\n",
    "if lpText is not None and lpCnt is not None:\n",
    "    # fit a rotated bounding box to the license plate contour and draw the bounding box on the license plate\n",
    "    box = cv2.boxPoints(cv2.minAreaRect(lpCnt))\n",
    "    box = box.astype(\"int\")\n",
    "    cv2.drawContours(image, [box], -1, (0, 255, 0), 2)\n",
    "    # compute a normal (unrotated) bounding box for license plate and then draw the OCR'd license plate text on the image\n",
    "    (x, y, w, h) = cv2.boundingRect(lpCnt)\n",
    "    cv2.putText(image, cleanup_text(lpText), (x, y - 15), cv2.FONT_HERSHEY_SIMPLEX, 0.75, (0, 255, 0), 2)\n",
    "    # show the output ANPR image\n",
    "    \n",
    "    print(\"[INFO] {}\".format(lpText))\n",
    "    cv2.imshow(\"Output ANPR\", image)\n",
    "    while True:\n",
    "        if time()-begin > 10:\n",
    "            break"
   ]
  }
 ],
 "metadata": {
  "kernelspec": {
   "display_name": "Python 3",
   "language": "python",
   "name": "python3"
  },
  "language_info": {
   "codemirror_mode": {
    "name": "ipython",
    "version": 3
   },
   "file_extension": ".py",
   "mimetype": "text/x-python",
   "name": "python",
   "nbconvert_exporter": "python",
   "pygments_lexer": "ipython3",
   "version": "3.8.8"
  }
 },
 "nbformat": 4,
 "nbformat_minor": 5
}
